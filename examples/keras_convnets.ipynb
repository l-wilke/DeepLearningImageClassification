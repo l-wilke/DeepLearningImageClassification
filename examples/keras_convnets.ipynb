{
 "cells": [
  {
   "cell_type": "code",
   "execution_count": 1,
   "metadata": {},
   "outputs": [
    {
     "name": "stderr",
     "output_type": "stream",
     "text": [
      "/usr/local/lib/python3.5/dist-packages/h5py/__init__.py:36: FutureWarning: Conversion of the second argument of issubdtype from `float` to `np.floating` is deprecated. In future, it will be treated as `np.float64 == np.dtype(float).type`.\n",
      "  from ._conv import register_converters as _register_converters\n",
      "Using TensorFlow backend.\n"
     ]
    }
   ],
   "source": [
    "from keras.layers import Input, Dense, Conv2D, MaxPooling2D, UpSampling2D"
   ]
  },
  {
   "cell_type": "code",
   "execution_count": 2,
   "metadata": {},
   "outputs": [],
   "source": [
    "from keras.models import Model\n",
    "from keras import backend as K"
   ]
  },
  {
   "cell_type": "code",
   "execution_count": 3,
   "metadata": {},
   "outputs": [],
   "source": [
    "input_img = Input(shape=(28, 28, 1))"
   ]
  },
  {
   "cell_type": "code",
   "execution_count": 4,
   "metadata": {},
   "outputs": [],
   "source": [
    "x = Conv2D(16, (3, 3), activation='relu', padding='same')(input_img)\n",
    "x = MaxPooling2D((2, 2), padding='same')(x)\n",
    "x = Conv2D(8, (3, 3), activation='relu', padding='same')(x)\n",
    "x = MaxPooling2D((2, 2), padding='same')(x)\n",
    "x = Conv2D(8, (3, 3), activation='relu', padding='same')(x)\n",
    "encoded = MaxPooling2D((2, 2), padding='same')(x)\n",
    "\n",
    "# at this point the representation is (4, 4, 8) i.e. 128-dimensional\n",
    "\n",
    "x = Conv2D(8, (3, 3), activation='relu', padding='same')(encoded)\n",
    "x = UpSampling2D((2, 2))(x)\n",
    "x = Conv2D(8, (3, 3), activation='relu', padding='same')(x)\n",
    "x = UpSampling2D((2, 2))(x)\n",
    "x = Conv2D(16, (3, 3), activation='relu')(x)\n",
    "x = UpSampling2D((2, 2))(x)\n",
    "decoded = Conv2D(1, (3, 3), activation='sigmoid', padding='same')(x)\n",
    "\n",
    "autoencoder = Model(input_img, decoded)\n",
    "autoencoder.compile(optimizer='adadelta', loss='binary_crossentropy')"
   ]
  },
  {
   "cell_type": "code",
   "execution_count": 5,
   "metadata": {},
   "outputs": [],
   "source": [
    "from keras.datasets import mnist\n",
    "import numpy as np"
   ]
  },
  {
   "cell_type": "code",
   "execution_count": 6,
   "metadata": {},
   "outputs": [
    {
     "name": "stdout",
     "output_type": "stream",
     "text": [
      "Downloading data from https://s3.amazonaws.com/img-datasets/mnist.npz\n",
      "11493376/11490434 [==============================] - 4s 0us/step\n"
     ]
    }
   ],
   "source": [
    "(x_train, _), (x_test, _) = mnist.load_data()"
   ]
  },
  {
   "cell_type": "code",
   "execution_count": 7,
   "metadata": {},
   "outputs": [],
   "source": [
    "x_train = x_train.astype('float32')/255.\n",
    "x_test = x_test.astype('float32')/255.\n",
    "x_train = np.reshape(x_train, (len(x_train), 28, 28, 1))\n",
    "x_test = np.reshape(x_test, (len(x_test), 28, 28, 1))"
   ]
  },
  {
   "cell_type": "code",
   "execution_count": 8,
   "metadata": {},
   "outputs": [],
   "source": [
    "from keras.callbacks import TensorBoard"
   ]
  },
  {
   "cell_type": "code",
   "execution_count": 9,
   "metadata": {
    "scrolled": true
   },
   "outputs": [
    {
     "name": "stdout",
     "output_type": "stream",
     "text": [
      "Train on 60000 samples, validate on 10000 samples\n",
      "Epoch 1/50\n",
      "60000/60000 [==============================] - 7s 121us/step - loss: 0.2220 - val_loss: 0.1629\n",
      "Epoch 2/50\n",
      "60000/60000 [==============================] - 6s 107us/step - loss: 0.1550 - val_loss: 0.1434\n",
      "Epoch 3/50\n",
      "60000/60000 [==============================] - 6s 107us/step - loss: 0.1396 - val_loss: 0.1371\n",
      "Epoch 4/50\n",
      "60000/60000 [==============================] - 7s 109us/step - loss: 0.1317 - val_loss: 0.1266\n",
      "Epoch 5/50\n",
      "60000/60000 [==============================] - 6s 108us/step - loss: 0.1270 - val_loss: 0.1257\n",
      "Epoch 6/50\n",
      "60000/60000 [==============================] - 7s 108us/step - loss: 0.1236 - val_loss: 0.1207\n",
      "Epoch 7/50\n",
      "60000/60000 [==============================] - 6s 107us/step - loss: 0.1215 - val_loss: 0.1175\n",
      "Epoch 8/50\n",
      "60000/60000 [==============================] - 6s 108us/step - loss: 0.1196 - val_loss: 0.1156\n",
      "Epoch 9/50\n",
      "60000/60000 [==============================] - 7s 109us/step - loss: 0.1182 - val_loss: 0.1131\n",
      "Epoch 10/50\n",
      "60000/60000 [==============================] - 6s 106us/step - loss: 0.1170 - val_loss: 0.1151\n",
      "Epoch 11/50\n",
      "60000/60000 [==============================] - 6s 107us/step - loss: 0.1159 - val_loss: 0.1145\n",
      "Epoch 12/50\n",
      "60000/60000 [==============================] - 6s 107us/step - loss: 0.1148 - val_loss: 0.1137\n",
      "Epoch 13/50\n",
      "60000/60000 [==============================] - 6s 108us/step - loss: 0.1135 - val_loss: 0.1116\n",
      "Epoch 14/50\n",
      "60000/60000 [==============================] - 6s 107us/step - loss: 0.1130 - val_loss: 0.1133\n",
      "Epoch 15/50\n",
      "60000/60000 [==============================] - 6s 105us/step - loss: 0.1121 - val_loss: 0.1072\n",
      "Epoch 16/50\n",
      "60000/60000 [==============================] - 6s 108us/step - loss: 0.1114 - val_loss: 0.1127\n",
      "Epoch 17/50\n",
      "60000/60000 [==============================] - 6s 107us/step - loss: 0.1107 - val_loss: 0.1097\n",
      "Epoch 18/50\n",
      "60000/60000 [==============================] - 6s 107us/step - loss: 0.1102 - val_loss: 0.1075\n",
      "Epoch 19/50\n",
      "60000/60000 [==============================] - 6s 107us/step - loss: 0.1094 - val_loss: 0.1084\n",
      "Epoch 20/50\n",
      "60000/60000 [==============================] - 6s 108us/step - loss: 0.1090 - val_loss: 0.1087\n",
      "Epoch 21/50\n",
      "60000/60000 [==============================] - 6s 108us/step - loss: 0.1082 - val_loss: 0.1090\n",
      "Epoch 22/50\n",
      "60000/60000 [==============================] - 6s 108us/step - loss: 0.1080 - val_loss: 0.1056\n",
      "Epoch 23/50\n",
      "60000/60000 [==============================] - 7s 109us/step - loss: 0.1074 - val_loss: 0.1070\n",
      "Epoch 24/50\n",
      "60000/60000 [==============================] - 6s 108us/step - loss: 0.1070 - val_loss: 0.1071\n",
      "Epoch 25/50\n",
      "60000/60000 [==============================] - 6s 108us/step - loss: 0.1064 - val_loss: 0.1065\n",
      "Epoch 26/50\n",
      "60000/60000 [==============================] - 6s 107us/step - loss: 0.1061 - val_loss: 0.1069\n",
      "Epoch 27/50\n",
      "60000/60000 [==============================] - 6s 107us/step - loss: 0.1055 - val_loss: 0.1054\n",
      "Epoch 28/50\n",
      "60000/60000 [==============================] - 6s 107us/step - loss: 0.1054 - val_loss: 0.1054\n",
      "Epoch 29/50\n",
      "60000/60000 [==============================] - 6s 107us/step - loss: 0.1050 - val_loss: 0.1035\n",
      "Epoch 30/50\n",
      "60000/60000 [==============================] - 6s 107us/step - loss: 0.1045 - val_loss: 0.1041\n",
      "Epoch 31/50\n",
      "60000/60000 [==============================] - 7s 109us/step - loss: 0.1042 - val_loss: 0.1075\n",
      "Epoch 32/50\n",
      "60000/60000 [==============================] - 7s 109us/step - loss: 0.1041 - val_loss: 0.1027\n",
      "Epoch 33/50\n",
      "60000/60000 [==============================] - 6s 108us/step - loss: 0.1038 - val_loss: 0.1016\n",
      "Epoch 34/50\n",
      "60000/60000 [==============================] - 6s 108us/step - loss: 0.1036 - val_loss: 0.1013\n",
      "Epoch 35/50\n",
      "60000/60000 [==============================] - 7s 109us/step - loss: 0.1032 - val_loss: 0.1001\n",
      "Epoch 36/50\n",
      "60000/60000 [==============================] - 6s 107us/step - loss: 0.1030 - val_loss: 0.1019\n",
      "Epoch 37/50\n",
      "60000/60000 [==============================] - 6s 106us/step - loss: 0.1029 - val_loss: 0.1021\n",
      "Epoch 38/50\n",
      "60000/60000 [==============================] - 7s 109us/step - loss: 0.1028 - val_loss: 0.1012\n",
      "Epoch 39/50\n",
      "60000/60000 [==============================] - 6s 108us/step - loss: 0.1025 - val_loss: 0.1003\n",
      "Epoch 40/50\n",
      "60000/60000 [==============================] - 6s 108us/step - loss: 0.1022 - val_loss: 0.1013\n",
      "Epoch 41/50\n",
      "60000/60000 [==============================] - 7s 108us/step - loss: 0.1019 - val_loss: 0.1002\n",
      "Epoch 42/50\n",
      "60000/60000 [==============================] - 6s 107us/step - loss: 0.1018 - val_loss: 0.1019\n",
      "Epoch 43/50\n",
      "60000/60000 [==============================] - 6s 107us/step - loss: 0.1019 - val_loss: 0.1027\n",
      "Epoch 44/50\n",
      "60000/60000 [==============================] - 6s 107us/step - loss: 0.1017 - val_loss: 0.1006\n",
      "Epoch 45/50\n",
      "60000/60000 [==============================] - 6s 108us/step - loss: 0.1016 - val_loss: 0.1030\n",
      "Epoch 46/50\n",
      "60000/60000 [==============================] - 6s 108us/step - loss: 0.1014 - val_loss: 0.0992\n",
      "Epoch 47/50\n",
      "60000/60000 [==============================] - 6s 108us/step - loss: 0.1012 - val_loss: 0.1004\n",
      "Epoch 48/50\n",
      "60000/60000 [==============================] - 6s 107us/step - loss: 0.1011 - val_loss: 0.1056\n",
      "Epoch 49/50\n",
      "60000/60000 [==============================] - 6s 107us/step - loss: 0.1009 - val_loss: 0.0990\n",
      "Epoch 50/50\n",
      "60000/60000 [==============================] - 6s 107us/step - loss: 0.1008 - val_loss: 0.0995\n"
     ]
    },
    {
     "data": {
      "text/plain": [
       "<keras.callbacks.History at 0x7fc01a9717f0>"
      ]
     },
     "execution_count": 9,
     "metadata": {},
     "output_type": "execute_result"
    }
   ],
   "source": [
    "autoencoder.fit(x_train, x_train, epochs=50, batch_size=128, shuffle=True, validation_data=(x_test, x_test),\n",
    "                callbacks=[TensorBoard(log_dir='/tmp/autoencoder')])"
   ]
  },
  {
   "cell_type": "code",
   "execution_count": 11,
   "metadata": {},
   "outputs": [],
   "source": [
    "import matplotlib.pyplot as plt"
   ]
  },
  {
   "cell_type": "code",
   "execution_count": 10,
   "metadata": {},
   "outputs": [],
   "source": [
    "decoded_imgs = autoencoder.predict(x_test)"
   ]
  },
  {
   "cell_type": "code",
   "execution_count": 16,
   "metadata": {},
   "outputs": [
    {
     "data": {
      "image/png": "[encoded data removed]",
      "text/plain": [
       "<matplotlib.figure.Figure at 0x7fc0b43fb5f8>"
      ]
     },
     "metadata": {},
     "output_type": "display_data"
    }
   ],
   "source": [
    "n = 10\n",
    "plt.figure(figsize=(20, 4))\n",
    "\n",
    "for i in range(n):\n",
    "    # display original\n",
    "    ax = plt.subplot(2, n, i+1)\n",
    "    plt.imshow(x_test[i].reshape(28, 28))\n",
    "    plt.gray()\n",
    "    ax.get_xaxis().set_visible(False)\n",
    "    ax.get_yaxis().set_visible(False)\n",
    "\n",
    "    # display reconstruction\n",
    "    ax = plt.subplot(2, n, i + 1 + n)\n",
    "    plt.imshow(decoded_imgs[i].reshape(28, 28))\n",
    "    plt.gray()\n",
    "    ax.get_xaxis().set_visible(False)\n",
    "    ax.get_yaxis().set_visible(False)\n",
    "plt.show()"
   ]
  },
  {
   "cell_type": "code",
   "execution_count": null,
   "metadata": {},
   "outputs": [],
   "source": []
  }
 ],
 "metadata": {
  "kernelspec": {
   "display_name": "Python 3",
   "language": "python",
   "name": "python3"
  },
  "language_info": {
   "codemirror_mode": {
    "name": "ipython",
    "version": 3
   },
   "file_extension": ".py",
   "mimetype": "text/x-python",
   "name": "python",
   "nbconvert_exporter": "python",
   "pygments_lexer": "ipython3",
   "version": "3.5.2"
  }
 },
 "nbformat": 4,
 "nbformat_minor": 2
}
